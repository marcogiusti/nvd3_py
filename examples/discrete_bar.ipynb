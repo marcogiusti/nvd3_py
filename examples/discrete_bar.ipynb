{
 "cells": [
  {
   "cell_type": "code",
   "execution_count": 6,
   "metadata": {
    "collapsed": false
   },
   "outputs": [
    {
     "data": {
      "application/javascript": [
       "$(\"head\").append($(\"<link/>\").attr({\n",
       "  rel:  \"stylesheet\",\n",
       "  type: \"text/css\",\n",
       "  href: \"https://cdnjs.cloudflare.com/ajax/libs/nvd3/1.8.4/nv.d3.min.css\"\n",
       "}));\n",
       "$.getScript(\"https://cdnjs.cloudflare.com/ajax/libs/d3/3.5.17/d3.min.js\", function () {\n",
       "$.getScript(\"https://cdnjs.cloudflare.com/ajax/libs/nvd3/1.8.4/nv.d3.min.js\", function () {\n",
       "nv.addGraph(function() {\n",
       "    var data_chart = [{\"values\": [{\"value\": -29.765957771107, \"label\": \"A Label\"}, {\"value\": 0, \"label\": \"B Label\"}, {\"value\": 32.807804682612, \"label\": \"C Label\"}, {\"value\": 196.45946739256, \"label\": \"D Label\"}, {\"value\": 0.19434030906893, \"label\": \"E Label\"}, {\"value\": -98.079782601442, \"label\": \"F Label\"}, {\"value\": -13.925743130903, \"label\": \"G Label\"}, {\"value\": -5.1387322875705, \"label\": \"H Label\"}], \"key\": \"Cumulative Return\"}];\n",
       "    (function(data) {\n",
       "    var chart = nv.models.discreteBarChart();\n",
       "    chart.y(function(d) { return d.value });\n",
       "chart.x(function(d) { return d.label });\n",
       "chart.duration(350);\n",
       "chart.staggerLabels(true);\n",
       "chart.discretebar.showValues(true);\n",
       "\n",
       "\n",
       "\n",
       "chart.tooltip.enabled(false);\n",
       "\n",
       "    d3.select(\"#nvd3_chart_70 svg\")\n",
       "        .datum(data)\n",
       "        .transition().duration(350)\n",
       "        .call(chart);\n",
       "\n",
       "    return chart;\n",
       "})(data_chart);\n",
       "});});\n",
       "});\n"
      ]
     },
     "metadata": {},
     "output_type": "display_data"
    },
    {
     "data": {
      "text/html": [
       "<div id=\"nvd3_chart_70\">\n",
       "    <svg style=\"width:600px;height:400px;\"></svg>\n",
       "</div>\n"
      ]
     },
     "metadata": {},
     "output_type": "display_data"
    }
   ],
   "source": [
    "import nvd3\n",
    "                                                                                       \n",
    "def example_data():\n",
    "    return [\n",
    "        {\n",
    "            \"key\": \"Cumulative Return\",\n",
    "            \"values\": [\n",
    "                {\n",
    "                    \"label\" : \"A Label\" ,\n",
    "                    \"value\" : -29.765957771107\n",
    "                },\n",
    "                {\n",
    "                    \"label\" : \"B Label\" ,\n",
    "                    \"value\" : 0\n",
    "                },\n",
    "                {\n",
    "                    \"label\" : \"C Label\" ,\n",
    "                    \"value\" : 32.807804682612\n",
    "                },\n",
    "                {\n",
    "                    \"label\" : \"D Label\" ,\n",
    "                    \"value\" : 196.45946739256\n",
    "                },\n",
    "                {\n",
    "                    \"label\" : \"E Label\" ,\n",
    "                    \"value\" : 0.19434030906893\n",
    "                },\n",
    "                {\n",
    "                    \"label\" : \"F Label\" ,\n",
    "                    \"value\" : -98.079782601442\n",
    "                },\n",
    "                {\n",
    "                    \"label\" : \"G Label\" ,\n",
    "                    \"value\" : -13.925743130903\n",
    "                },\n",
    "                {\n",
    "                    \"label\" : \"H Label\" ,\n",
    "                    \"value\" : -5.1387322875705\n",
    "                }\n",
    "            ]\n",
    "        }\n",
    "    ]\n",
    "\n",
    "chart = nvd3.DiscreteBarChart()\n",
    "chart.x(\"function(d) { return d.label }\")  # Specify the data\n",
    "                                           # accessors.\n",
    "chart.y(\"function(d) { return d.value }\")\n",
    "chart.staggerLabels(True)  # Too many bars and not enough room? Try\n",
    "                           # staggering labels.\n",
    "chart.tooltip.enabled(False)  # Don't show tooltips\n",
    "chart.discretebar.showValues(True)  # ...instead, show the bar value\n",
    "                                    # right on top of each bar.\n",
    "chart.duration(350)\n",
    "                     \n",
    "data_supplier = nvd3.StaticDataSupplier(example_data())\n",
    "nvd3.IPythonContainer(chart, data_supplier, width=600, height=400)"
   ]
  },
  {
   "cell_type": "code",
   "execution_count": null,
   "metadata": {
    "collapsed": true
   },
   "outputs": [],
   "source": []
  }
 ],
 "metadata": {
  "kernelspec": {
   "display_name": "Python 2",
   "language": "python",
   "name": "python2"
  },
  "language_info": {
   "codemirror_mode": {
    "name": "ipython",
    "version": 2
   },
   "file_extension": ".py",
   "mimetype": "text/x-python",
   "name": "python",
   "nbconvert_exporter": "python",
   "pygments_lexer": "ipython2",
   "version": "2.7.9"
  }
 },
 "nbformat": 4,
 "nbformat_minor": 0
}
