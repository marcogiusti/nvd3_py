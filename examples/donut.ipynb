{
 "cells": [
  {
   "cell_type": "markdown",
   "metadata": {},
   "source": [
    "Import the module"
   ]
  },
  {
   "cell_type": "code",
   "execution_count": 1,
   "metadata": {
    "collapsed": true
   },
   "outputs": [],
   "source": [
    "import nvd3"
   ]
  },
  {
   "cell_type": "markdown",
   "metadata": {
    "collapsed": true
   },
   "source": [
    "Prepare the data"
   ]
  },
  {
   "cell_type": "code",
   "execution_count": 2,
   "metadata": {
    "collapsed": true
   },
   "outputs": [],
   "source": [
    "x = [\"One\", \"Two\", \"Three\", \"Four\", \"Five\", \"Six\", \"Seven\",\"Eight\"]\n",
    "y = [29.76, 0, 32.80, 196.45, 0.19, 98.07, 13.92, 5.138]\n",
    "data = [{\"label\": l, \"value\": v} for l, v in zip(x, y)]"
   ]
  },
  {
   "cell_type": "markdown",
   "metadata": {
    "collapsed": true
   },
   "source": [
    "Construct the chart"
   ]
  },
  {
   "cell_type": "code",
   "execution_count": 3,
   "metadata": {
    "collapsed": false
   },
   "outputs": [],
   "source": [
    "chart = nvd3.PieChart()\n",
    "chart.x(\"function(d) { return d.label; }\")\n",
    "chart.y(\"function(d) { return d.value; }\")\n",
    "chart.showLabels(True)  # Display pie labels\n",
    "chart.labelThreshold(.05)  # Configure the minimum slice size for\n",
    "                           # labels to show up\n",
    "chart.labelType(\"percent\")  # Configure what type of data to show in\n",
    "                            # the label. Can be \"key\", \"value\" or\n",
    "                            # \"percent\"\n",
    "chart.donut(True)  # Turn on Donut mode. Makes pie chart look tasty!\n",
    "chart.donutRatio(.35)  # Configure how big you want the donut hole\n",
    "                       # size to be."
   ]
  },
  {
   "cell_type": "markdown",
   "metadata": {
    "collapsed": true
   },
   "source": [
    "Display the HTML"
   ]
  },
  {
   "cell_type": "code",
   "execution_count": 4,
   "metadata": {
    "collapsed": false
   },
   "outputs": [
    {
     "data": {
      "application/javascript": [
       "$(\"head\").append($(\"<link/>\").attr({\n",
       "  rel:  \"stylesheet\",\n",
       "  type: \"text/css\",\n",
       "  href: \"https://cdnjs.cloudflare.com/ajax/libs/nvd3/1.8.3/nv.d3.min.css\"\n",
       "}));\n",
       "$.getScript(\"https://cdnjs.cloudflare.com/ajax/libs/d3/3.5.17/d3.min.js\", function () {\n",
       "$.getScript(\"https://cdnjs.cloudflare.com/ajax/libs/nvd3/1.8.3/nv.d3.min.js\", function () {\n",
       "nv.addGraph(function() {\n",
       "    var data_chart = [{\"value\": 29.76, \"label\": \"One\"}, {\"value\": 0, \"label\": \"Two\"}, {\"value\": 32.8, \"label\": \"Three\"}, {\"value\": 196.45, \"label\": \"Four\"}, {\"value\": 0.19, \"label\": \"Five\"}, {\"value\": 98.07, \"label\": \"Six\"}, {\"value\": 13.92, \"label\": \"Seven\"}, {\"value\": 5.138, \"label\": \"Eight\"}];\n",
       "    (function(data) {\n",
       "    var chart = nv.models.pieChart();\n",
       "    chart.labelType(\"percent\");\n",
       "chart.donutRatio(0.35);\n",
       "chart.showLabels(true);\n",
       "chart.labelThreshold(0.05);\n",
       "chart.donut(true);\n",
       "chart.y(function(d) { return d.value; });\n",
       "chart.x(function(d) { return d.label; });\n",
       "\n",
       "\n",
       "\n",
       "    d3.select(\"#nvd3_chart_928 svg\")\n",
       "        .datum(data)\n",
       "        .transition().duration(350)\n",
       "        .call(chart);\n",
       "\n",
       "    return chart;\n",
       "})(data_chart);\n",
       "});});\n",
       "});\n"
      ]
     },
     "metadata": {},
     "output_type": "display_data"
    },
    {
     "data": {
      "text/html": [
       "<div id=\"nvd3_chart_928\">\n",
       "    <svg style=\"height:500px;width:400px\"></svg>\n",
       "</div>\n"
      ]
     },
     "metadata": {},
     "output_type": "display_data"
    }
   ],
   "source": [
    "data_supplier = nvd3.StaticDataSupplier(data)\n",
    "nvd3.IPythonContainer(chart, data_supplier)"
   ]
  }
 ],
 "metadata": {
  "kernelspec": {
   "display_name": "Python 2",
   "language": "python",
   "name": "python2"
  },
  "language_info": {
   "codemirror_mode": {
    "name": "ipython",
    "version": 2
   },
   "file_extension": ".py",
   "mimetype": "text/x-python",
   "name": "python",
   "nbconvert_exporter": "python",
   "pygments_lexer": "ipython2",
   "version": "2.7.9"
  }
 },
 "nbformat": 4,
 "nbformat_minor": 0
}
