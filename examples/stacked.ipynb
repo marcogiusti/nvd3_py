{
 "cells": [
  {
   "cell_type": "code",
   "execution_count": 1,
   "metadata": {
    "collapsed": false,
    "scrolled": true
   },
   "outputs": [
    {
     "data": {
      "application/javascript": [
       "$(\"head\").append($(\"<link/>\").attr({\n",
       "  rel:  \"stylesheet\",\n",
       "  type: \"text/css\",\n",
       "  href: \"https://cdnjs.cloudflare.com/ajax/libs/nvd3/1.8.4/nv.d3.min.css\"\n",
       "}));\n",
       "$.getScript(\"https://cdnjs.cloudflare.com/ajax/libs/d3/3.5.17/d3.min.js\", function () {\n",
       "$.getScript(\"https://cdnjs.cloudflare.com/ajax/libs/nvd3/1.8.4/nv.d3.min.js\", function () {\n",
       "d3.json('http://nvd3.org/examples/stackedAreaData.json', function(error, data) {\n",
       "    \n",
       "    nv.addGraph(function() {\n",
       "        return (function(data) {\n",
       "    var chart = nv.models.stackedAreaChart();\n",
       "    chart.useInteractiveGuideline(true);\n",
       "chart.duration(500);\n",
       "chart.y(function(d) { return d[1] });\n",
       "chart.x(function(d) { return d[0] });\n",
       "chart.margin({\"right\": 100});\n",
       "chart.showControls(true);\n",
       "chart.rightAlignYAxis(true);\n",
       "chart.stacked.clipEdge(true);\n",
       "chart.xAxis.tickFormat(function(d) {\n",
       "      return d3.time.format('%x')(new Date(d));\n",
       "});\n",
       "chart.yAxis.tickFormat(d3.format(',.2f'));\n",
       "\n",
       "\n",
       "\n",
       "\n",
       "    d3.select(\"#nvd3_chart_697 svg\")\n",
       "        .datum(data)\n",
       "        .transition().duration(350)\n",
       "        .call(chart);\n",
       "\n",
       "    return chart;\n",
       "})(data);\n",
       "    });\n",
       "});});\n",
       "});\n"
      ]
     },
     "metadata": {},
     "output_type": "display_data"
    },
    {
     "data": {
      "text/html": [
       "<div id=\"nvd3_chart_697\">\n",
       "    <svg style=\"width:600px;height:400px;\"></svg>\n",
       "</div>\n"
      ]
     },
     "metadata": {},
     "output_type": "display_data"
    }
   ],
   "source": [
    "import nvd3\n",
    "                                                                        \n",
    "chart = nvd3.StackedAreaChart()\n",
    "chart.margin({\"right\": 100})\n",
    "chart.x(\"function(d) { return d[0] }\")  # We can modify the data\n",
    "                                        # accessor functions...\n",
    "chart.y(\"function(d) { return d[1] }\")  # ...in case your data is\n",
    "                                        # formatted differently.\n",
    "chart.useInteractiveGuideline(True)  # Tooltips which show all data\n",
    "                                     # points. Very nice!\n",
    "chart.rightAlignYAxis(True)  # Let's move the y-axis to the right side.\n",
    "chart.duration(500)\n",
    "chart.showControls(True)  # Allow user to choose 'Stacked', 'Stream',\n",
    "                          # 'Expanded' mode.\n",
    "chart.stacked.clipEdge(True)\n",
    "# Format x-axis labels with custom function.\n",
    "chart.xaxis.tickFormat(\"\"\"function(d) {\n",
    "      return d3.time.format('%x')(new Date(d));\n",
    "}\"\"\")\n",
    "chart.yaxis.tickFormat(\"d3.format(',.2f')\")\n",
    "                                                                        \n",
    "# Data sample:\n",
    "# http://nvd3.org/examples/stackedAreaData.json\n",
    "# {\n",
    "#   \"key\" : \"North America\" , \n",
    "#   \"values\" : [\n",
    "#     [ 1025409600000 , 23.041422681023],\n",
    "#     [ 1028088000000 , 19.854291255832],\n",
    "#     [ 1030766400000 , 21.02286281168], \n",
    "#     [ 1033358400000 , 22.093608385173],\n",
    "#     [ 1036040400000 , 25.108079299458],\n",
    "#     [ 1038632400000 , 26.982389242348]\n",
    "#     ...\n",
    "url = \"http://nvd3.org/examples/stackedAreaData.json\"\n",
    "data_supplier = nvd3.JsonDataSupplier(url)\n",
    "nvd3.IPythonContainer(chart, data_supplier, width=600, height=400)\n"
   ]
  }
 ],
 "metadata": {
  "kernelspec": {
   "display_name": "Python 2",
   "language": "python",
   "name": "python2"
  },
  "language_info": {
   "codemirror_mode": {
    "name": "ipython",
    "version": 2
   },
   "file_extension": ".py",
   "mimetype": "text/x-python",
   "name": "python",
   "nbconvert_exporter": "python",
   "pygments_lexer": "ipython2",
   "version": "2.7.9"
  }
 },
 "nbformat": 4,
 "nbformat_minor": 0
}
